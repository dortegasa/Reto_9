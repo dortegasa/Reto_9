{
 "cells": [
  {
   "attachments": {},
   "cell_type": "markdown",
   "metadata": {},
   "source": [
    "Primer punto"
   ]
  },
  {
   "cell_type": "code",
   "execution_count": 1,
   "metadata": {},
   "outputs": [
    {
     "name": "stdout",
     "output_type": "stream",
     "text": [
      "El número 3.0 es positivo\n"
     ]
    }
   ],
   "source": [
    "# Definimos funciones lambda para verificar si el número es positivo, negativo o cero\n",
    "positivo = lambda x: print(f\"El número {x} es positivo\") if x > 0 else None\n",
    "negativo = lambda x: print(f\"El número {x} es negativo\") if x < 0 else None\n",
    "cero = lambda x: print(f\"El número {x} es el neutro para la suma\") if x == 0 else None\n",
    "# Pedimos al usuario que ingrese un número real\n",
    "x = float(input(\"Ingrese un número real: \"))\n",
    "# Llamamos a las funciones lambda para determinar si el número es positivo, negativo o cero\n",
    "positivo(x)\n",
    "negativo(x)\n",
    "cero(x)\n"
   ]
  },
  {
   "cell_type": "code",
   "execution_count": 5,
   "metadata": {},
   "outputs": [
    {
     "name": "stdout",
     "output_type": "stream",
     "text": [
      "El punto no pertenece al interior del círculo\n"
     ]
    }
   ],
   "source": [
    "# Definimos una función lambda para calcular la distancia entre dos puntos en un plano\n",
    "distancia = lambda x1, y1, x2, y2: ((x2 - x1)**2 + (y2 - y1)**2)**0.5\n",
    "# Pedimos al usuario que ingrese las coordenadas del centro del círculo y el radio\n",
    "xCentro= float(input(\"Ingrese la coordenada x del centro del círculo: \"))\n",
    "yCentro = float(input(\"Ingrese la coordenada y del centro del círculo: \"))\n",
    "radio = float(input(\"Ingrese el radio del círculo: \"))\n",
    "# Pedimos al usuario que ingrese las coordenadas del punto a verificar\n",
    "xPunto = float(input(\"Ingrese la coordenada x del punto: \"))\n",
    "yPunto = float(input(\"Ingrese la coordenada y del punto: \"))\n",
    "# Calculamos la distancia entre el centro del círculo y el punto utilizando la función lambda\n",
    "d = distancia(xCentro, yCentro, xPunto, yPunto)\n",
    "# Verificamos si el punto pertenece al interior del círculo\n",
    "if d < radio:\n",
    "    print(\"El punto pertenece al interior del círculo\")\n",
    "else:\n",
    "    print(\"El punto no pertenece al interior del círculo\")"
   ]
  },
  {
   "cell_type": "code",
   "execution_count": 12,
   "metadata": {},
   "outputs": [
    {
     "name": "stdout",
     "output_type": "stream",
     "text": [
      "Se puede construir un triángulo con las longitudes dadas\n"
     ]
    }
   ],
   "source": [
    "# Definimos una función lambda para verificar si se pueden construir un triángulo\n",
    "triangulo = lambda a, b, c: a + b > c and a + c > b and b + c > a\n",
    "# Solicitamos al usuario ingresar las tres longitudes\n",
    "a = float(input(\"Ingrese la longitud del primer lado: \"))\n",
    "b = float(input(\"Ingrese la longitud del segundo lado: \"))\n",
    "c = float(input(\"Ingrese la longitud del tercer lado: \"))\n",
    "# Verificamos si se pueden construir un triángulo con las longitudes dadas utilizando la función lambda\n",
    "if triangulo(a, b, c):\n",
    "    print(\"Se puede construir un triángulo con las longitudes dadas\")\n",
    "else:\n",
    "    print(\"No se puede construir un triángulo con las longitudes dadas\")\n"
   ]
  },
  {
   "attachments": {},
   "cell_type": "markdown",
   "metadata": {},
   "source": [
    "Segundo Punto"
   ]
  },
  {
   "cell_type": "code",
   "execution_count": 17,
   "metadata": {},
   "outputs": [
    {
     "name": "stdout",
     "output_type": "stream",
     "text": [
      "La cantidad de personas contagiadas en el día 100 es: 0\n"
     ]
    }
   ],
   "source": [
    "def contagios_covid(*args):\n",
    "    C = args[0]\n",
    "    D = args[1:]\n",
    "    # Calculamos la cantidad de personas contagiadas en cada día\n",
    "    P = [C * (2 ** d) for d in D]   \n",
    "    # Mostramos los resultados\n",
    "    for i in range(len(D)):\n",
    "        print(f\"La cantidad de personas contagiadas en el día {D[i]} es: {P[i]}\")\n",
    "# Solicitamos al usuario que ingrese los valores de C y D\n",
    "C = int(input(\"Ingrese el número de contagiados actuales: \"))\n",
    "D = [int(d) for d in input(\"Ingrese los días transcurridos separados por espacios: \").split()]\n",
    "# Llamamos a la función con los valores ingresados por el usuario\n",
    "contagios_covid(C, *D)\n",
    "\n"
   ]
  },
  {
   "cell_type": "code",
   "execution_count": 23,
   "metadata": {},
   "outputs": [
    {
     "name": "stdout",
     "output_type": "stream",
     "text": [
      "Hay en total 28 kilos de carne.\n"
     ]
    }
   ],
   "source": [
    "def CantidadCarne(*args):\n",
    "    # Definimos los pesos de cada tipo de ave\n",
    "    PesoGallina = 6\n",
    "    PesoGallo = 7\n",
    "    # Solicitamos al usuario la cantidad de cada tipo de ave\n",
    "    N = int(input(\"Ingrese la cantidad de gallinas: \"))\n",
    "    M = int(input(\"Ingrese la cantidad de gallos: \"))\n",
    "    K = int(input(\"Ingrese la cantidad depollitos: \"))\n",
    "    # Calculamos la cantidad total de carne de aves en kilos\n",
    "    TotalCarne = (N * PesoGallina) + (M * PesoGallo) + K\n",
    "    # Devolvemos el resultado\n",
    "    return TotalCarne\n",
    "# Ejemplo de uso\n",
    "print(\"Hay en total\", CantidadCarne(), \"kilos de carne.\") \n"
   ]
  },
  {
   "cell_type": "code",
   "execution_count": 25,
   "metadata": {},
   "outputs": [
    {
     "name": "stdout",
     "output_type": "stream",
     "text": [
      "Queda con un total de 0\n"
     ]
    }
   ],
   "source": [
    "def calcular_vueltas(*args):\n",
    "    # Definimos los precios de cada producto\n",
    "    precio_pan = 300\n",
    "    precio_leche = 3300\n",
    "    precio_huevo = 350\n",
    "    # Solicitamos al usuario la cantidad de cada producto\n",
    "    P = int(input(\"Ingrese la cantidad de panes: \"))\n",
    "    M = int(input(\"Ingrese la cantidad de bolsas de leche: \"))\n",
    "    H = int(input(\"Ingrese la cantidad de huevos: \"))\n",
    "    # Calculamos el total de la compra\n",
    "    total = (P * precio_pan) + (M * precio_leche) + (H * precio_huevo)\n",
    "    # Solicitamos al usuario el valor del billete\n",
    "    B = int(input(\"Ingrese el valor del billete: \"))\n",
    "    # Calculamos las vueltas o la deuda\n",
    "    vueltas = B - total\n",
    "    # Devolvemos el resultado\n",
    "    return vueltas\n",
    "# Ejemplo de uso\n",
    "print(\"Queda con un total de\", calcular_vueltas())\n"
   ]
  },
  {
   "attachments": {},
   "cell_type": "markdown",
   "metadata": {},
   "source": [
    "Tercer punto"
   ]
  },
  {
   "cell_type": "code",
   "execution_count": 29,
   "metadata": {},
   "outputs": [
    {
     "name": "stdout",
     "output_type": "stream",
     "text": [
      "La potencia de 3.0 elevado a 1 es igual a 3.0\n"
     ]
    }
   ],
   "source": [
    "def PotenciaRecursiva(BaseNum: float, ExponenteNum: int):\n",
    "    if ExponenteNum == 0:\n",
    "        return 1\n",
    "    elif ExponenteNum == 1:\n",
    "        return BaseNum\n",
    "    else:\n",
    "        return BaseNum * PotenciaRecursiva(BaseNum, ExponenteNum - 1)\n",
    "if __name__ == '__main__':\n",
    "    base = float(input(\"Ingresa la base: \"))\n",
    "    exponente = int(input(\"Ingresa el exponente: \"))\n",
    "    resultado = PotenciaRecursiva(base, exponente)\n",
    "    print(f\"La potencia de {base} elevado a {exponente} es igual a {resultado}\")\n"
   ]
  },
  {
   "attachments": {},
   "cell_type": "markdown",
   "metadata": {},
   "source": [
    "Cuarto punto"
   ]
  },
  {
   "cell_type": "code",
   "execution_count": 12,
   "metadata": {},
   "outputs": [
    {
     "name": "stdout",
     "output_type": "stream",
     "text": [
      "El tiempo de ejecución para el cálculo de Fibonacci recursivo es:  1.5779404640197754\n",
      "El tiempo de ejecución para el cálculo de Fibonacci iterativo es:  0.0\n",
      "El cálculo de Fibonacci iterativo es más rápido a partir del número  35\n"
     ]
    }
   ],
   "source": [
    "import time\n",
    "def FibonacciRecursivo(n):\n",
    "    if n <= 1:\n",
    "        return n\n",
    "    else:\n",
    "        return FibonacciRecursivo(n-1) + FibonacciRecursivo(n-2)\n",
    "def FibonacciIterativo(n):\n",
    "    if n <= 1:\n",
    "        return n\n",
    "    else:\n",
    "        a = 0\n",
    "        b = 1\n",
    "        for i in range(2, n+1):\n",
    "            c = a + b\n",
    "            a = b\n",
    "            b = c\n",
    "        return b\n",
    "n = int(input(\"Ingrese el número de la serie Fibonacci que desea calcular: \"))\n",
    "InicioTimeRecursivo = time.time()\n",
    "FibonacciRecursivo(n)\n",
    "FinTimeRecursivo = time.time()\n",
    "TimerRecursivo = FinTimeRecursivo - InicioTimeRecursivo\n",
    "InicioTimeIterativo = time.time()\n",
    "FibonacciIterativo(n)\n",
    "FinTimeIterativo = time.time()\n",
    "TimeIterativo = FinTimeIterativo - InicioTimeIterativo\n",
    "print(\"El tiempo de ejecución para el cálculo de Fibonacci recursivo es: \", TimerRecursivo)\n",
    "print(\"El tiempo de ejecución para el cálculo de Fibonacci iterativo es: \", TimeIterativo)\n",
    "if TimeIterativo > TimerRecursivo:\n",
    "    print(\"El cálculo de Fibonacci recursivo es más rápido a partir del número \", n)\n",
    "else:\n",
    "    print(\"El cálculo de Fibonacci iterativo es más rápido a partir del número \", n)"
   ]
  }
 ],
 "metadata": {
  "kernelspec": {
   "display_name": "Python 3",
   "language": "python",
   "name": "python3"
  },
  "language_info": {
   "codemirror_mode": {
    "name": "ipython",
    "version": 3
   },
   "file_extension": ".py",
   "mimetype": "text/x-python",
   "name": "python",
   "nbconvert_exporter": "python",
   "pygments_lexer": "ipython3",
   "version": "3.11.3"
  },
  "orig_nbformat": 4
 },
 "nbformat": 4,
 "nbformat_minor": 2
}
